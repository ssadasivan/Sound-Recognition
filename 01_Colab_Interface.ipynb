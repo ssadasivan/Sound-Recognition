{
  "cells": [
    {
      "cell_type": "markdown",
      "metadata": {
        "id": "view-in-github",
        "colab_type": "text"
      },
      "source": [
        "<a href=\"https://colab.research.google.com/github/ssadasivan/Sound-Recognition/blob/master/01_Colab_Interface.ipynb\" target=\"_parent\"><img src=\"https://colab.research.google.com/assets/colab-badge.svg\" alt=\"Open In Colab\"/></a>"
      ]
    },
    {
      "cell_type": "markdown",
      "source": [
        "SCM.275x - Advanced Supply Chain Systems Planning and Network Design\n",
        "# **Intro to Python - Colab Interface**"
      ],
      "metadata": {
        "id": "Vka3OKv6u_bK"
      },
      "id": "Vka3OKv6u_bK"
    },
    {
      "cell_type": "markdown",
      "source": [
        "## **Introduction to Colab interface**"
      ],
      "metadata": {
        "id": "wi2gekOd9Vct"
      },
      "id": "wi2gekOd9Vct"
    },
    {
      "cell_type": "markdown",
      "source": [
        "Google Colab is a cloud-based platform that allows you to write and run Python code in your browser.\n",
        "\n",
        "In this course, we will share Colab notebooks with you - like the one you are using now. To make and save changes, you must save a copy to your Google Drive.\n",
        "This is how you can do it:\n",
        "\n",
        "* Open the shared notebook: Click the link you received to open the notebook in Colab. You've already done this to get to this page!\n",
        "* Save your own copy: Go to the menu and select File > Save a copy in Drive.\n",
        "* Edit your copy: Once saved, you can freely make changes to your version without affecting the original.\n",
        "\n",
        "Always save a copy if you plan to edit; otherwise, your changes won’t be saved!\n"
      ],
      "metadata": {
        "id": "OapaI2a48_E2"
      },
      "id": "OapaI2a48_E2"
    },
    {
      "cell_type": "markdown",
      "source": [
        "### **Exercise**\n",
        "\n",
        "Save this Colab notebook on your Google Drive."
      ],
      "metadata": {
        "id": "T484_Ljo-uCb"
      },
      "id": "T484_Ljo-uCb"
    },
    {
      "cell_type": "markdown",
      "source": [
        "## **Colab cells**"
      ],
      "metadata": {
        "id": "DDacd-gJ9bFT"
      },
      "id": "DDacd-gJ9bFT"
    },
    {
      "cell_type": "markdown",
      "source": [
        "The Colab interface has two main types of cells:\n",
        "\n",
        "- **Markdown Cells**: Used for text, headings, and other content formatting.\n",
        "- **Code Cells**: Used to write and execute Python code.\n",
        "\n",
        "This cell is a Markdown cell. If you'd like to change the text in this cell, just double-click on it and make changes."
      ],
      "metadata": {
        "id": "6bds8sjH-bMi"
      },
      "id": "6bds8sjH-bMi"
    },
    {
      "cell_type": "markdown",
      "source": [
        "The cell below is a code cell. We use it for a basic snippet of code, consisting of a `print` statement. You can press the run button to run the code in the cell."
      ],
      "metadata": {
        "id": "ibijgvL1hSTT"
      },
      "id": "ibijgvL1hSTT"
    },
    {
      "cell_type": "code",
      "source": [
        "print(\"The design of supply chains is a key strategic plannnig decision.\")"
      ],
      "metadata": {
        "colab": {
          "base_uri": "https://localhost:8080/"
        },
        "id": "RrQ5xLg8-v9k",
        "outputId": "6b2e0ab0-cd44-48b7-9b2c-258c79d04973"
      },
      "id": "RrQ5xLg8-v9k",
      "execution_count": null,
      "outputs": [
        {
          "output_type": "stream",
          "name": "stdout",
          "text": [
            "The design of supply chains is a key strategic plannnig decision.\n"
          ]
        }
      ]
    },
    {
      "cell_type": "markdown",
      "source": [
        "Note that you can also use symbols `\" \"` or `' '` for your print statements. You can put the text you'd like to print between `()`.\n",
        "\n",
        "For example:"
      ],
      "metadata": {
        "id": "hSNU378aiNgf"
      },
      "id": "hSNU378aiNgf"
    },
    {
      "cell_type": "code",
      "source": [
        "print('The design of supply chains involves multiple trade-offs.')"
      ],
      "metadata": {
        "colab": {
          "base_uri": "https://localhost:8080/"
        },
        "id": "uhuttwrZiI8r",
        "outputId": "b7299ede-0b05-4249-cdd9-2f496a5e67ed"
      },
      "id": "uhuttwrZiI8r",
      "execution_count": null,
      "outputs": [
        {
          "output_type": "stream",
          "name": "stdout",
          "text": [
            "The design of supply chains involves multiple trade-offs.\n"
          ]
        }
      ]
    },
    {
      "cell_type": "markdown",
      "source": [
        "In Colab, the code is organized into cells that are executed sequentially, from top to bottom. This means that the output of one cell depends on the previous cells being run.\n",
        "\n",
        "If you run cells out of order or skip some, it can lead to errors. When you reopen the notebook, you'll need to run the cells again in the correct order to reinitialize everything."
      ],
      "metadata": {
        "id": "mfPT05sZc9ay"
      },
      "id": "mfPT05sZc9ay"
    },
    {
      "cell_type": "markdown",
      "source": [
        "### **Exercise**"
      ],
      "metadata": {
        "id": "x9iKsCE_i1DJ"
      },
      "id": "x9iKsCE_i1DJ"
    },
    {
      "cell_type": "markdown",
      "source": [
        "Create a code cell and print the following statement:\n",
        "*I am learning Python*\n",
        "\n",
        "Then, expand the \"Solution\" header to check your solution."
      ],
      "metadata": {
        "id": "-ljU0f-Tgsj_"
      },
      "id": "-ljU0f-Tgsj_"
    },
    {
      "cell_type": "markdown",
      "source": [
        "#### **Solution**"
      ],
      "metadata": {
        "id": "g_0EkcEii2ui"
      },
      "id": "g_0EkcEii2ui"
    },
    {
      "cell_type": "markdown",
      "source": [
        "Here are possible solutions:"
      ],
      "metadata": {
        "id": "ThVhgxRVjSa5"
      },
      "id": "ThVhgxRVjSa5"
    },
    {
      "cell_type": "code",
      "source": [
        "print(\"I am learning Python\")"
      ],
      "metadata": {
        "colab": {
          "base_uri": "https://localhost:8080/"
        },
        "id": "SiAaogAQjPKf",
        "outputId": "b75a7e4f-9cbf-490b-bc91-09555687cb93"
      },
      "id": "SiAaogAQjPKf",
      "execution_count": null,
      "outputs": [
        {
          "output_type": "stream",
          "name": "stdout",
          "text": [
            "I am learning Python\n"
          ]
        }
      ]
    },
    {
      "cell_type": "code",
      "source": [
        "print('I am learning Python')"
      ],
      "metadata": {
        "colab": {
          "base_uri": "https://localhost:8080/"
        },
        "id": "0Qb5lrB6jVmA",
        "outputId": "52753f11-78b2-44a0-c42d-428af9cd1e14"
      },
      "id": "0Qb5lrB6jVmA",
      "execution_count": null,
      "outputs": [
        {
          "output_type": "stream",
          "name": "stdout",
          "text": [
            "I am learning Python\n"
          ]
        }
      ]
    },
    {
      "cell_type": "markdown",
      "source": [
        "## **Headers**"
      ],
      "metadata": {
        "id": "GaPYNuyz9hHC"
      },
      "id": "GaPYNuyz9hHC"
    },
    {
      "cell_type": "markdown",
      "source": [
        "You can add headers to structure your notebook. You can place the `#` symbol to signify that a specific cell is a header. The number of `#` symbols is used to indicate the header level - for example `##` for level 2, `###` for level 3, and so on. Double-click on the following cell to observe this. Note that you can collapse and expand these header cells - this will automatically apply to all other cells bellow them."
      ],
      "metadata": {
        "id": "Gml15M8bk6hS"
      },
      "id": "Gml15M8bk6hS"
    },
    {
      "cell_type": "markdown",
      "source": [
        "\n",
        "# Header Level 1\n"
      ],
      "metadata": {
        "id": "Ja3M8TQ75RVu"
      },
      "id": "Ja3M8TQ75RVu"
    },
    {
      "cell_type": "markdown",
      "source": [
        "## Header Level 2"
      ],
      "metadata": {
        "id": "qQrYZeIZ6wkO"
      },
      "id": "qQrYZeIZ6wkO"
    },
    {
      "cell_type": "markdown",
      "source": [
        "### Header Level 3\n"
      ],
      "metadata": {
        "id": "0knffEMX6yQo"
      },
      "id": "0knffEMX6yQo"
    },
    {
      "cell_type": "markdown",
      "source": [
        "#### Header Level 4\n"
      ],
      "metadata": {
        "id": "aK6mbtj7_PY1"
      },
      "id": "aK6mbtj7_PY1"
    },
    {
      "cell_type": "markdown",
      "source": [
        "You won't use headers too much in this course as we will structure code for you. In this introductory Python course, we will use headers to structure different sections. Each subsection has an \"Exercise\" section. You can expand them as needed - for example, try looking at the exercise first and the solution next."
      ],
      "metadata": {
        "id": "Wwf1zaJYmGK2"
      },
      "id": "Wwf1zaJYmGK2"
    },
    {
      "cell_type": "markdown",
      "source": [
        "## **Formatting**"
      ],
      "metadata": {
        "id": "pdeJT66p9vdZ"
      },
      "id": "pdeJT66p9vdZ"
    },
    {
      "cell_type": "markdown",
      "source": [
        "You can also use all types of formatting as shown in the following example."
      ],
      "metadata": {
        "id": "66ng7LfO6VcI"
      },
      "id": "66ng7LfO6VcI"
    },
    {
      "cell_type": "markdown",
      "source": [
        "This is an example of formatted text.\n",
        "**This text is bold.** *This text is italic.*\n",
        "\n"
      ],
      "metadata": {
        "id": "0hYBTYAYmNR7"
      },
      "id": "0hYBTYAYmNR7"
    },
    {
      "cell_type": "markdown",
      "source": [
        "### **Exercise**\n",
        "\n",
        "Change the text in the following markdown cell to bold and italic."
      ],
      "metadata": {
        "id": "9Y6Hw4lS_VPs"
      },
      "id": "9Y6Hw4lS_VPs"
    },
    {
      "cell_type": "markdown",
      "source": [
        "This is the text that you need to change."
      ],
      "metadata": {
        "id": "qS5Va0mC_fKN"
      },
      "id": "qS5Va0mC_fKN"
    },
    {
      "cell_type": "markdown",
      "source": [
        "#### **Solution**"
      ],
      "metadata": {
        "id": "nfWW6EmJ_jME"
      },
      "id": "nfWW6EmJ_jME"
    },
    {
      "cell_type": "markdown",
      "source": [
        "***This is the text that you need to change.***"
      ],
      "metadata": {
        "id": "mfw1tr_Z_oUx"
      },
      "id": "mfw1tr_Z_oUx"
    },
    {
      "cell_type": "markdown",
      "source": [
        "## **Commenting the code**"
      ],
      "metadata": {
        "id": "wLNXjPCzjflF"
      },
      "id": "wLNXjPCzjflF"
    },
    {
      "cell_type": "markdown",
      "source": [
        "In some cases, you may want to add comments to your code - you can achieve this by using the `#` symbol. Note that this is the same symbol as previously for headings, but this time applied to a code cell, not a text cell.\n",
        "\n",
        "Inserting a `#` symbol in the code means that any content on that line of code after that sign will be ignored.\n",
        "\n",
        "In the example below, we are inserting the `#` in order to mark a comment in our code - a simple statement on what the code does, for example."
      ],
      "metadata": {
        "id": "FzvwvlDEjflF"
      },
      "id": "FzvwvlDEjflF"
    },
    {
      "cell_type": "code",
      "source": [
        "# This is a simple code cell where I print a simple statement. I inserted this comment to remember what I'm doing in this code\n",
        "\n",
        "print(\"An example of a typical supply chain design decision is the number and location of logistics facilities.\")"
      ],
      "metadata": {
        "colab": {
          "base_uri": "https://localhost:8080/"
        },
        "outputId": "ff19eeb4-34f9-4a33-c6eb-15ad3ab1ae59",
        "id": "5OaL7qAjjflF"
      },
      "execution_count": null,
      "outputs": [
        {
          "output_type": "stream",
          "name": "stdout",
          "text": [
            "An example of a typical supply chain design decision is the number and location of logistics facilities.\n"
          ]
        }
      ],
      "id": "5OaL7qAjjflF"
    },
    {
      "cell_type": "markdown",
      "source": [
        "The `#` symbol can also be used in front of actual code. In the example below, I have three print statements. I inserted a `#` symbol in front of the first one because I would only like to run the second and the third print statement."
      ],
      "metadata": {
        "id": "zWYtZ431jflG"
      },
      "id": "zWYtZ431jflG"
    },
    {
      "cell_type": "code",
      "source": [
        "print(\"There are multiple objectives in supply chain network design. These include:\")\n",
        "#print(\"- Cost\")\n",
        "print(\"- CO2 impact\")\n",
        "print(\"- Revenue\")"
      ],
      "metadata": {
        "colab": {
          "base_uri": "https://localhost:8080/"
        },
        "outputId": "af4f0e7c-0b0d-4103-f395-5155c7665215",
        "id": "m93y4e4NjflG"
      },
      "execution_count": null,
      "outputs": [
        {
          "output_type": "stream",
          "name": "stdout",
          "text": [
            "There are multiple objectives in supply chain network design. These include:\n",
            "- CO2 impact\n",
            "- Revenue\n"
          ]
        }
      ],
      "id": "m93y4e4NjflG"
    },
    {
      "cell_type": "markdown",
      "source": [
        "### **Exercice**"
      ],
      "metadata": {
        "id": "OnX90g-okKdR"
      },
      "id": "OnX90g-okKdR"
    },
    {
      "cell_type": "markdown",
      "source": [
        "Take the code in the following cell and print only the lines relevant to Cost and Revenue."
      ],
      "metadata": {
        "id": "-MTBVoZQkNjU"
      },
      "id": "-MTBVoZQkNjU"
    },
    {
      "cell_type": "code",
      "source": [
        "print(\"There are multiple objectives in supply chain network design. These include:\")\n",
        "print(\"- Cost\")\n",
        "print(\"- CO2 impact\")\n",
        "print(\"- Revenue\")"
      ],
      "metadata": {
        "colab": {
          "base_uri": "https://localhost:8080/"
        },
        "id": "FcblcA5vjflG",
        "outputId": "cb955b1f-3b0e-45c3-e51b-67fe15cce783"
      },
      "execution_count": null,
      "outputs": [
        {
          "output_type": "stream",
          "name": "stdout",
          "text": [
            "There are multiple objectives in supply chain network design. These include:\n",
            "- Cost\n",
            "- CO2 impact\n",
            "- Revenue\n"
          ]
        }
      ],
      "id": "FcblcA5vjflG"
    },
    {
      "cell_type": "markdown",
      "source": [
        "#### **Solution**"
      ],
      "metadata": {
        "id": "EXt5BJjokYEU"
      },
      "id": "EXt5BJjokYEU"
    },
    {
      "cell_type": "code",
      "source": [
        "print(\"There are multiple objectives in supply chain network design. These include:\")\n",
        "print(\"- Cost\")\n",
        "#print(\"- CO2 impact\")\n",
        "print(\"- Revenue\")"
      ],
      "metadata": {
        "colab": {
          "base_uri": "https://localhost:8080/"
        },
        "id": "4WNQktOSkb_D",
        "outputId": "c7e5384f-720a-4c7c-97a1-a1a6c44812a6"
      },
      "execution_count": null,
      "outputs": [
        {
          "output_type": "stream",
          "name": "stdout",
          "text": [
            "There are multiple objectives in supply chain network design. These include:\n",
            "- Cost\n",
            "- Revenue\n"
          ]
        }
      ],
      "id": "4WNQktOSkb_D"
    }
  ],
  "metadata": {
    "kernelspec": {
      "display_name": "Python 3 (ipykernel)",
      "language": "python",
      "name": "python3"
    },
    "language_info": {
      "codemirror_mode": {
        "name": "ipython",
        "version": 3
      },
      "file_extension": ".py",
      "mimetype": "text/x-python",
      "name": "python",
      "nbconvert_exporter": "python",
      "pygments_lexer": "ipython3",
      "version": "3.11.5"
    },
    "colab": {
      "provenance": [],
      "collapsed_sections": [
        "g_0EkcEii2ui",
        "nfWW6EmJ_jME",
        "EXt5BJjokYEU"
      ],
      "include_colab_link": true
    }
  },
  "nbformat": 4,
  "nbformat_minor": 5
}